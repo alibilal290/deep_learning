{
 "cells": [
  {
   "cell_type": "markdown",
   "metadata": {},
   "source": [
    "# Part 1"
   ]
  },
  {
   "cell_type": "markdown",
   "metadata": {},
   "source": [
    "### Q1"
   ]
  },
  {
   "cell_type": "code",
   "execution_count": 3,
   "metadata": {},
   "outputs": [],
   "source": [
    "#Import libraries\n",
    "import numpy as np\n",
    "import torch"
   ]
  },
  {
   "cell_type": "code",
   "execution_count": 27,
   "metadata": {},
   "outputs": [
    {
     "name": "stdout",
     "output_type": "stream",
     "text": [
      "y = : 363.0\n",
      "dy/dx =  792.0\n"
     ]
    }
   ],
   "source": [
    "#Initilising scaler tensors\n",
    "c = torch.ones(1, requires_grad = False)\n",
    "x = torch.ones(1, requires_grad = True)\n",
    "\n",
    "#Defining t value\n",
    "t = 2*x + c\n",
    "\n",
    "#Defining the function y\n",
    "y = 3*(t**2 + 2)**2\n",
    "print(f'y = : {y.item()}')\n",
    "\n",
    "#Computing dy/dx\n",
    "y.backward()\n",
    "print(f'dy/dx =  {x.grad.item()}')\n",
    "\n",
    "# clear gradients\n",
    "x.grad.data.zero_()"
   ]
  },
  {
   "cell_type": "markdown",
   "metadata": {},
   "source": [
    "### Q2"
   ]
  },
  {
   "cell_type": "code",
   "execution_count": 26,
   "metadata": {},
   "outputs": [
    {
     "name": "stdout",
     "output_type": "stream",
     "text": [
      "y = : 32.0\n",
      "dy/dx =  78.0\n"
     ]
    }
   ],
   "source": [
    "#Initilising scaler tensors\n",
    "c = torch.ones(1, requires_grad = False)\n",
    "x = torch.ones(1, requires_grad = True)\n",
    "\n",
    "#Defining s value\n",
    "s = 2*x\n",
    "\n",
    "#Defining the function y\n",
    "y = 3*(s**3 + s) + 2*c**4\n",
    "print(f'y = : {y.item()}')\n",
    "\n",
    "#Computing dy/dx\n",
    "y.backward()\n",
    "print(f'dy/dx =  {x.grad.item()}')\n",
    "\n",
    "# clear gradients\n",
    "x.grad.data.zero_()"
   ]
  },
  {
   "cell_type": "markdown",
   "metadata": {},
   "source": [
    "### Q3"
   ]
  },
  {
   "cell_type": "code",
   "execution_count": 25,
   "metadata": {},
   "outputs": [
    {
     "name": "stdout",
     "output_type": "stream",
     "text": [
      "y = : 9752276893696.0\n",
      "dy/dx =  51347072221184.0\n"
     ]
    }
   ],
   "source": [
    "#Initilising scaler tensors\n",
    "c = torch.ones(1, requires_grad = False)\n",
    "x = torch.ones(1, requires_grad = True)\n",
    "\n",
    "#Defining value\n",
    "q = 2*x + c\n",
    "r = 2*q + 3\n",
    "p = 2*r**3 + 3 * r\n",
    "t = (p**2 + 2*p + 3)**2\n",
    "\n",
    "#Defining the function y\n",
    "y = 2*t + c\n",
    "print(f'y = : {y.item()}')\n",
    "\n",
    "#Computing dy/dx\n",
    "y.backward()\n",
    "print(f'dy/dx =  {x.grad.item()}')\n",
    "\n",
    "# clear gradients\n",
    "x.grad.data.zero_()"
   ]
  },
  {
   "cell_type": "markdown",
   "metadata": {},
   "source": [
    "### Q4"
   ]
  },
  {
   "cell_type": "markdown",
   "metadata": {},
   "source": [
    "Attached the result in the Zip file."
   ]
  },
  {
   "cell_type": "markdown",
   "metadata": {},
   "source": [
    "# Part 2"
   ]
  },
  {
   "cell_type": "code",
   "execution_count": 4,
   "metadata": {},
   "outputs": [],
   "source": [
    "import torch\n",
    "\n",
    "class GradientDescent:\n",
    "    \"\"\"\n",
    "    GradientDescent class apply the gradient descent algorithm for linear regression.\n",
    "    Parameters:\n",
    "    - x_data: The input data. (Type: torch.Tensor)\n",
    "    - y_data: The predicted output data. (Type: torch.Tensor)\n",
    "    - lr: The learning rate of the model. (optional, default=0.01)\n",
    "    - no_iterations: The number of iterations to train the model. (optional, default=1000)\n",
    "    \"\"\"\n",
    "    def __init__(self, x_data, y_data, lr=0.01, no_iterations=1000):\n",
    "        self.x_data = x_data\n",
    "        self.y_data = y_data\n",
    "        self.lr = lr\n",
    "        self.no_iterations = no_iterations\n",
    "        self.a = torch.tensor(1.0, requires_grad=True)\n",
    "        self.b = torch.tensor(1.0, requires_grad=True)\n",
    "\n",
    "    def forward(self, x):\n",
    "        \"\"\"\n",
    "        Computes the forward pass of the linear regression model.\n",
    "        Parameter: \n",
    "        - x: The input data as a torch.Tensor.\n",
    "        Returns: The predicted output of the linear regression model.\n",
    "        \"\"\"\n",
    "        return torch.exp(-self.a * x) + 2 * self.a * x + self.b\n",
    "\n",
    "    def Error(self):\n",
    "        \"\"\"\n",
    "        Computes and Returns the mean squared error (MSE) of the linear regression model.\n",
    "        \"\"\"\n",
    "        return torch.mean(torch.pow(self.forward(self.x_data) - self.y_data, 2))\n",
    "\n",
    "    def optimizer(self):\n",
    "        \"\"\"\n",
    "        Update the parameters using gradient descent algorithm.\n",
    "        \"\"\"\n",
    "        with torch.no_grad():\n",
    "            self.a -= self.lr * self.a.grad\n",
    "            self.b -= self.lr * self.b.grad\n",
    "            self.a.grad.zero_()\n",
    "            self.b.grad.zero_()\n",
    "\n",
    "    def train(self):\n",
    "        \"\"\"\n",
    "        Trains the linear regression model using gradient descent.\n",
    "        \"\"\"\n",
    "        for i in range(self.no_iterations):\n",
    "            loss = self.Error()\n",
    "            loss.backward()\n",
    "            self.optimizer()\n",
    "\n",
    "            # Print each 100th iteration\n",
    "            if (i+1) % 100 == 0:\n",
    "                print(f'Iteration No.[{i+1}], Loss: {loss.item()}')\n",
    "\n",
    "        print(f'Optimized parameters: a = {self.a.item()}, b = {self.b.item()}')"
   ]
  },
  {
   "cell_type": "code",
   "execution_count": 5,
   "metadata": {},
   "outputs": [
    {
     "name": "stdout",
     "output_type": "stream",
     "text": [
      "Iteration No.[100], Loss: 0.8032331466674805\n",
      "Iteration No.[200], Loss: 0.1086350679397583\n",
      "Iteration No.[300], Loss: 0.01996113732457161\n",
      "Iteration No.[400], Loss: 0.00525839626789093\n",
      "Iteration No.[500], Loss: 0.002566411392763257\n",
      "Iteration No.[600], Loss: 0.0020579535048455\n",
      "Iteration No.[700], Loss: 0.0019609665032476187\n",
      "Iteration No.[800], Loss: 0.001942385919392109\n",
      "Iteration No.[900], Loss: 0.001938830129802227\n",
      "Iteration No.[1000], Loss: 0.001938146771863103\n",
      "Optimized parameters: a = 0.6886922121047974, b = 4.952817916870117\n"
     ]
    }
   ],
   "source": [
    "# Input data\n",
    "x_data = torch.tensor([-2, -1.9, -1.8, -1.7, -1.6, -1.5, -1.4, -1.3, -1.2, -1.1, -1, -0.8, -0.7, -0.6, -0.5, -0.4, -0.3, -0.2, -0.1, 0, 0.1, 0.2, 0.3, 0.4, 0.5, 0.6, 0.7, 0.8, 0.9, 1, 1.1, 1.2, 1.3, 1.4, 1.5, 1.6, 1.7, 1.8, 1.9, 2.0])\n",
    "y_data = torch.tensor([6.255, 6.121, 6.005, 5.907, 5.825, 5.758, 5.704, 5.664, 5.636, 5.62, 5.614, 5.618, 5.631, 5.652, 5.682, 5.719, 5.763, 5.814, 5.87, 5.933, 6.0, 6.072, 6.149, 6.231, 6.316, 6.405, 6.497, 6.593, 6.691, 6.793, 6.897, 7.003, 7.112, 7.223, 7.335, 7.45, 7.566, 7.684, 7.804, 7.924])\n",
    "\n",
    "# Initialize parameters (a and b)\n",
    "a = torch.tensor(1.0, requires_grad=True)\n",
    "b = torch.tensor(1.0, requires_grad=True)\n",
    "\n",
    "no_iterations = 1000\n",
    "lr = 0.01\n",
    "\n",
    "# Create an instance of the GradientDescent class\n",
    "gd = GradientDescent(x_data, y_data)\n",
    "\n",
    "# Train the model\n",
    "gd.train()"
   ]
  },
  {
   "cell_type": "code",
   "execution_count": 6,
   "metadata": {},
   "outputs": [
    {
     "data": {
      "image/png": "[encoded data removed]",
      "text/plain": [
       "<Figure size 640x480 with 1 Axes>"
      ]
     },
     "metadata": {},
     "output_type": "display_data"
    }
   ],
   "source": [
    "# Plot the data points and the linear regression line\n",
    "\n",
    "import matplotlib.pyplot as plt\n",
    "\n",
    "# Plot the data points\n",
    "plt.scatter(x_data, y_data, color='blue', label='Data Points')\n",
    "\n",
    "# Plot the linear regression line\n",
    "x_range = x_data\n",
    "y_range = gd.forward(x_range)\n",
    "plt.plot(x_range, y_range.detach().numpy(), color='red', label='Linear Regression Line')\n",
    "\n",
    "# Visualize the plot\n",
    "plt.xlabel('x')\n",
    "plt.ylabel('y')\n",
    "plt.title('Linear Regression')\n",
    "plt.legend()\n",
    "\n",
    "plt.show()"
   ]
  },
  {
   "cell_type": "code",
   "execution_count": null,
   "metadata": {},
   "outputs": [],
   "source": []
  }
 ],
 "metadata": {
  "kernelspec": {
   "display_name": "Python 3.11 (torch)",
   "language": "python",
   "name": "pytorch"
  },
  "language_info": {
   "codemirror_mode": {
    "name": "ipython",
    "version": 3
   },
   "file_extension": ".py",
   "mimetype": "text/x-python",
   "name": "python",
   "nbconvert_exporter": "python",
   "pygments_lexer": "ipython3",
   "version": "3.11.5"
  }
 },
 "nbformat": 4,
 "nbformat_minor": 2
}
