{
 "cells": [
  {
   "cell_type": "markdown",
   "metadata": {},
   "source": [
    "# Part 1"
   ]
  },
  {
   "cell_type": "markdown",
   "metadata": {},
   "source": [
    "File attached within the Zip File."
   ]
  },
  {
   "cell_type": "markdown",
   "metadata": {},
   "source": [
    "# Part 2"
   ]
  },
  {
   "cell_type": "code",
   "execution_count": 1,
   "metadata": {},
   "outputs": [],
   "source": [
    "#Import Numpy library\n",
    "import numpy as np\n",
    "\n",
    "class ErrorFunction:\n",
    "    \"\"\"\n",
    "    Class representing the error function and its gradient.\n",
    "    \"\"\"\n",
    "    #Initialize the class\n",
    "    def __init__(self):\n",
    "        \"\"\"\n",
    "        Initializes the ErrorFunction class.\n",
    "        \"\"\"\n",
    "        pass\n",
    "    \n",
    "    #Define the error function\n",
    "    def y(self, r, s, t):\n",
    "        \"\"\"\n",
    "        Calculates the value of the error function at given parameters of r, s, and t.\n",
    "        Parameters: Value of parameter r, s and t.\n",
    "        Returns: Value of the error function at the given parameters.\n",
    "        \"\"\"\n",
    "        return (r - 7)**3 + (4*s - 20)**2 + (2*s - 10)**2 + (4*(t**2/t) - 12)**2\n",
    "    \n",
    "    #Gradient of error function for r, s, t\n",
    "    def gradient(self, r, s, t):\n",
    "        \"\"\"\n",
    "        Computes the gradient of the error function with respect to r, s, and t.\n",
    "        Parameters: Value of parameter r, s and t.\n",
    "        Returns: Gradient of the error function with respect to r, s, and t as a numpy array.\n",
    "        \"\"\"\n",
    "        dr = 3*(r - 7)**2\n",
    "        ds = 40*s - 200\n",
    "        dt = 32*t - 96\n",
    "\n",
    "        return np.array([dr, ds, dt])\n",
    "    \n",
    "\n",
    "class GradientDesent:\n",
    "    \"\"\"\n",
    "    Class representing the Gradient Descent optimization algorithm.\n",
    "    \"\"\"\n",
    "    def __init__(self, error_function):\n",
    "        \"\"\"\n",
    "        Initializes the GradientDescent class.\n",
    "        Parameters: The error function object to optimize.\n",
    "        \"\"\"\n",
    "        self.error_function = error_function\n",
    "\n",
    "    #Optimization algorithm\n",
    "    def optimize(self, lr, max_iter):\n",
    "        \"\"\"\n",
    "        Optimizes the error function using the Gradient Descent algorithm.\n",
    "        Parameters:\n",
    "        - lr: Learning rate for the gradient descent algorithm.\n",
    "        - max_iter: Number of iterations for the optimization.\n",
    "\n",
    "        Returns: Values of r, s, and t where the error is minimized as a tuple.\n",
    "        \"\"\"\n",
    "        #Initial values of r, s, t\n",
    "        r, s, t = 8, 1, 4\n",
    "\n",
    "        #Update r, s, t values \n",
    "        for _ in range(max_iter):\n",
    "            grad = self.error_function.gradient(r, s, t)\n",
    "\n",
    "            r -= lr * grad[0] \n",
    "            s -= lr * grad[1]\n",
    "            t -= lr * grad[2]\n",
    "        \n",
    "        return r, s, t"
   ]
  },
  {
   "cell_type": "code",
   "execution_count": 2,
   "metadata": {},
   "outputs": [
    {
     "name": "stdout",
     "output_type": "stream",
     "text": [
      "Minimum Error Values: \n",
      " r = 7.032150655915842 \n",
      " s = 4.999999999999999 \n",
      " t = 3.0000000000000004\n"
     ]
    }
   ],
   "source": [
    "#Creating instances of classes\n",
    "error_function = ErrorFunction()\n",
    "gradient_descent = GradientDesent(error_function)\n",
    "\n",
    "\n",
    "#Setting learning rate, and number of iterations\n",
    "learning_rate = 0.01\n",
    "max_iterations = 1000\n",
    "\n",
    "#Perform gradient descent optimization\n",
    "r_min, s_min, t_min = gradient_descent.optimize(learning_rate, max_iterations)\n",
    "\n",
    "#Print output of r, s, t\n",
    "print(f'Minimum Error Values: \\n r = {r_min} \\n s = {s_min} \\n t = {t_min}')"
   ]
  }
 ],
 "metadata": {
  "kernelspec": {
   "display_name": "Python 3.11 (torch)",
   "language": "python",
   "name": "pytorch"
  },
  "language_info": {
   "codemirror_mode": {
    "name": "ipython",
    "version": 3
   },
   "file_extension": ".py",
   "mimetype": "text/x-python",
   "name": "python",
   "nbconvert_exporter": "python",
   "pygments_lexer": "ipython3",
   "version": "3.11.5"
  }
 },
 "nbformat": 4,
 "nbformat_minor": 2
}
